{
  "nbformat": 4,
  "nbformat_minor": 0,
  "metadata": {
    "colab": {
      "provenance": [],
      "authorship_tag": "ABX9TyNWUoFAQYAthl0x33YWr9LB",
      "include_colab_link": true
    },
    "kernelspec": {
      "name": "python3",
      "display_name": "Python 3"
    },
    "language_info": {
      "name": "python"
    }
  },
  "cells": [
    {
      "cell_type": "markdown",
      "metadata": {
        "id": "view-in-github",
        "colab_type": "text"
      },
      "source": [
        "<a href=\"https://colab.research.google.com/github/jmcconne100/P1-Sales-Predictions/blob/main/Sales_Prediction.ipynb\" target=\"_parent\"><img src=\"https://colab.research.google.com/assets/colab-badge.svg\" alt=\"Open In Colab\"/></a>"
      ]
    },
    {
      "cell_type": "markdown",
      "source": [
        "# Project 1 - Part 1\n",
        "#### Jon McConnell\n"
      ],
      "metadata": {
        "id": "4eL_01NXx1Mw"
      }
    },
    {
      "cell_type": "code",
      "execution_count": null,
      "metadata": {
        "id": "NLy2SCdAxxEZ"
      },
      "outputs": [],
      "source": []
    },
    {
      "cell_type": "markdown",
      "source": [
        "### Loading Data\n"
      ],
      "metadata": {
        "id": "VoNefcByx8IH"
      }
    },
    {
      "cell_type": "code",
      "source": [],
      "metadata": {
        "id": "rG_m5Hz6x-Kv"
      },
      "execution_count": null,
      "outputs": []
    },
    {
      "cell_type": "markdown",
      "source": [
        "### Data Cleaning\n"
      ],
      "metadata": {
        "id": "41dJUjOkx-in"
      }
    },
    {
      "cell_type": "code",
      "source": [],
      "metadata": {
        "id": "NQnDjtBcyAKr"
      },
      "execution_count": null,
      "outputs": []
    },
    {
      "cell_type": "markdown",
      "source": [
        "### Exploratory Visuals\n"
      ],
      "metadata": {
        "id": "JdGG008ayAjJ"
      }
    },
    {
      "cell_type": "code",
      "source": [],
      "metadata": {
        "id": "us1S51RayNwP"
      },
      "execution_count": null,
      "outputs": []
    },
    {
      "cell_type": "markdown",
      "source": [
        "### Explanatory Visuals"
      ],
      "metadata": {
        "id": "ewuQ9UeNyOSV"
      }
    },
    {
      "cell_type": "code",
      "source": [],
      "metadata": {
        "id": "8fFLmWPTyQdf"
      },
      "execution_count": null,
      "outputs": []
    }
  ]
}